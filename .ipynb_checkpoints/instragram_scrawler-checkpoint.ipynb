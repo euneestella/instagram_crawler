{
 "cells": [
  {
   "cell_type": "code",
   "execution_count": 1,
   "metadata": {},
   "outputs": [],
   "source": [
    "from selenium import webdriver\n",
    "from selenium.webdriver.common.keys import Keys\n",
    "from bs4 import BeautifulSoup\n",
    "import time\n",
    "from time import sleep\n",
    "import csv\n",
    "import re"
   ]
  },
  {
   "cell_type": "markdown",
   "metadata": {},
   "source": [
    "최종 결과물을 저장할 ```.csv``` 파일 만들기"
   ]
  },
  {
   "cell_type": "code",
   "execution_count": 2,
   "metadata": {},
   "outputs": [],
   "source": [
    "f = open('filename.csv', 'w', encoding='utf-8', newline='')"
   ]
  },
  {
   "cell_type": "markdown",
   "metadata": {},
   "source": [
    "chromedriver를 이용해 크롬 웹페이지를 조작할 수 있도록 하자."
   ]
  },
  {
   "cell_type": "code",
   "execution_count": 10,
   "metadata": {},
   "outputs": [],
   "source": [
    "driver = webdriver.Chrome('C:/Users/eunee/python_tools/chromedriver')\n",
    "driver.get('https://www.instagram.com/explore/locations/441279525/ddp/')"
   ]
  },
  {
   "cell_type": "markdown",
   "metadata": {},
   "source": [
    "스크롤을 내리면 새로운 포스팅이 노출되는 방식이다. 웹 페이지의 반응 시간을 고려해 pause를 준다."
   ]
  },
  {
   "cell_type": "code",
   "execution_count": null,
   "metadata": {},
   "outputs": [],
   "source": [
    "SCROLL_PAUSE_TIME = 2"
   ]
  },
  {
   "cell_type": "markdown",
   "metadata": {},
   "source": [
    "좌표값 Y를 ```0```에서 ```document.body.scrollHeight```까지 내리는 작업을 반복한다."
   ]
  },
  {
   "cell_type": "code",
   "execution_count": null,
   "metadata": {},
   "outputs": [],
   "source": [
    "last_height = driver.execute_script(\"return document.body.scrollHeight\")\n",
    "\n",
    "scrolling = 3\n",
    "while scrolling:\n",
    "    scrolling = scrolling -1\n",
    "    driver.execute_script(\"window.scrollTo(0, document.body.scrollHeight);\")\n",
    "    time.sleep(SCROLL_PAUSE_TIME)\n",
    "    new_height = driver.execute_script(\"return document.body.scrollHeight\")\n",
    "    \n",
    "    if not scrolling:\n",
    "       break"
   ]
  },
  {
   "cell_type": "markdown",
   "metadata": {},
   "source": [
    "```BeautifulSoup```을 활용해 찾고자 하는 element를 모두 parse해 온다."
   ]
  },
  {
   "cell_type": "code",
   "execution_count": 11,
   "metadata": {},
   "outputs": [],
   "source": [
    "html = driver.page_source\n",
    "soup = BeautifulSoup(html, 'html.parser')\n",
    "text_data = soup.find_all('span', {'id':'react-root'})\n",
    "_dta = []\n",
    "\n",
    "for i in text_data:\n",
    "    _dta.append(str(i.find_all('img',{'class':'_2di5p'})))\n",
    "\n",
    "str_dta = str(_dta)"
   ]
  },
  {
   "cell_type": "markdown",
   "metadata": {},
   "source": [
    "리스트로 만든 다음 미리 만들어 둔 csv 파일로 저장한다."
   ]
  },
  {
   "cell_type": "code",
   "execution_count": null,
   "metadata": {},
   "outputs": [],
   "source": [
    "csvsriter = csv.writer(f)\n",
    "for row in str_dra:\n",
    "    csvwriter.writerow(row)\n",
    "f.close()"
   ]
  }
 ],
 "metadata": {
  "kernelspec": {
   "display_name": "Python 3",
   "language": "python",
   "name": "python3"
  },
  "language_info": {
   "codemirror_mode": {
    "name": "ipython",
    "version": 3
   },
   "file_extension": ".py",
   "mimetype": "text/x-python",
   "name": "python",
   "nbconvert_exporter": "python",
   "pygments_lexer": "ipython3",
   "version": "3.7.3"
  }
 },
 "nbformat": 4,
 "nbformat_minor": 2
}
